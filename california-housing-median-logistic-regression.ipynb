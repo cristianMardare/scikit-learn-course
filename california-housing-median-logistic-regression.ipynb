{
 "cells": [
  {
   "cell_type": "code",
   "execution_count": 1,
   "id": "recent-vietnam",
   "metadata": {},
   "outputs": [],
   "source": [
    "import pandas as pd\n",
    "import matplotlib.pyplot as plt"
   ]
  },
  {
   "cell_type": "code",
   "execution_count": 2,
   "id": "turned-afghanistan",
   "metadata": {},
   "outputs": [],
   "source": [
    "housing_data = pd.read_csv('datasets/housing.csv')"
   ]
  },
  {
   "cell_type": "code",
   "execution_count": 3,
   "id": "dense-storage",
   "metadata": {},
   "outputs": [],
   "source": [
    "housing_data = housing_data.dropna()\n",
    "housing_data = housing_data.drop(housing_data.loc[housing_data['median_house_value'] == 500001].index)\n",
    "housing_data = pd.get_dummies(housing_data, columns=['ocean_proximity'])"
   ]
  },
  {
   "cell_type": "code",
   "execution_count": 6,
   "id": "funded-toddler",
   "metadata": {},
   "outputs": [],
   "source": [
    "median = housing_data['median_house_value'].median()\n",
    "housing_data['above_median'] = housing_data['median_house_value'] > median\n"
   ]
  },
  {
   "cell_type": "code",
   "execution_count": 7,
   "id": "developed-vietnamese",
   "metadata": {},
   "outputs": [],
   "source": [
    "X = housing_data.drop(['median_house_value', 'above_median'], axis=1)\n",
    "y = housing_data['above_median']"
   ]
  },
  {
   "cell_type": "code",
   "execution_count": 9,
   "id": "south-emerald",
   "metadata": {},
   "outputs": [],
   "source": [
    "from sklearn.model_selection import train_test_split\n",
    "X_train, X_test, y_train, y_test = train_test_split(X, y, test_size=0.2)"
   ]
  },
  {
   "cell_type": "code",
   "execution_count": 10,
   "id": "atmospheric-worthy",
   "metadata": {},
   "outputs": [],
   "source": [
    "from sklearn.linear_model import LogisticRegression\n",
    "logistic_model = LogisticRegression(solver='liblinear').fit(X_train, y_train)"
   ]
  },
  {
   "cell_type": "code",
   "execution_count": 11,
   "id": "derived-bankruptcy",
   "metadata": {},
   "outputs": [
    {
     "name": "stdout",
     "output_type": "stream",
     "text": [
      "Training score:  0.8169448010269577\n"
     ]
    }
   ],
   "source": [
    "print('Training score: ', logistic_model.score(X_train, y_train))"
   ]
  },
  {
   "cell_type": "code",
   "execution_count": 12,
   "id": "scientific-sudan",
   "metadata": {},
   "outputs": [],
   "source": [
    "y_pred = logistic_model.predict(X_test)"
   ]
  },
  {
   "cell_type": "code",
   "execution_count": 14,
   "id": "french-progress",
   "metadata": {},
   "outputs": [
    {
     "name": "stdout",
     "output_type": "stream",
     "text": [
      "Testing score:  0.8336328626444159\n"
     ]
    }
   ],
   "source": [
    "from sklearn.metrics import accuracy_score\n",
    "print('Testing score: ', accuracy_score(y_test, y_pred))"
   ]
  },
  {
   "cell_type": "code",
   "execution_count": null,
   "id": "refined-transition",
   "metadata": {},
   "outputs": [],
   "source": []
  }
 ],
 "metadata": {
  "kernelspec": {
   "display_name": "Python 3",
   "language": "python",
   "name": "python3"
  },
  "language_info": {
   "codemirror_mode": {
    "name": "ipython",
    "version": 3
   },
   "file_extension": ".py",
   "mimetype": "text/x-python",
   "name": "python",
   "nbconvert_exporter": "python",
   "pygments_lexer": "ipython3",
   "version": "3.8.0"
  }
 },
 "nbformat": 4,
 "nbformat_minor": 5
}
